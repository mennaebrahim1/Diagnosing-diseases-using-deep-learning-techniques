{
 "cells": [
  {
   "cell_type": "code",
   "execution_count": null,
   "metadata": {},
   "outputs": [],
   "source": [
    "import requests\n",
    "from bs4 import BeautifulSoup\n",
    "q=[]\n",
    "a=[]\n",
    "for num in range(1429):\n",
    "    # Send an HTTP GET request\n",
    "#response = requests.get(f\"https://altibbi.com/%D8%A7%D8%B3%D8%A6%D9%84%D8%A9-%D8%B7%D8%A8%D9%8A%D8%A9/%D8%A7%D9%85%D8%B1%D8%A7%D8%B6-%D8%A7%D9%84%D8%B9%D9%8A%D9%88%D9%86?page=1\")\n",
    "    response = requests.get(f\"https://altibbi.com/%D8%A7%D8%B3%D8%A6%D9%84%D8%A9-%D8%B7%D8%A8%D9%8A%D8%A9/%D8%A7%D9%84%D8%A8%D8%B4%D8%B1%D8%A9-%D9%88%D8%A7%D9%84%D8%AC%D9%85%D8%A7%D9%84?page={num}\")\n",
    "    # Parse the HTML content\n",
    "    soup = BeautifulSoup(response.content, 'html.parser')\n",
    "    #print (soup)\n",
    "    # Find the relevant HTML elements and extract the data\n",
    "    questions = soup.find_all('div', class_='question-item-container')\n",
    "    # Print the extracted data\n",
    "    for question in questions:\n",
    "        #print(question.text.strip())\n",
    "        q.append(question.contents[3].find('h2').text)\n",
    "        #print(question.contents[3].find('h2').text)\n",
    "        a.append(question.find('div',itemprop=\"acceptedAnswer\").text)\n",
    "        #print(questions[0].find('div',itemprop=\"acceptedAnswer\").text)\n",
    "    #print(question.find('div',itemprop=\"acceptedAnswer\").text)"
   ]
  },
  {
   "cell_type": "code",
   "execution_count": null,
   "metadata": {},
   "outputs": [],
   "source": [
    "import csv\n",
    "import pandas as pd\n",
    "list1 =q\n",
    "list2 =a\n",
    "category ='جراحة تجميل'\n",
    "# Specify the file path where you want to save the new Excel file\n",
    "excel_file = 'new8_data.xlsx'\n",
    "\n",
    "# Combine the two lists into a list of tuples\n",
    "data = list(zip(list1, list2, [category] * len(list1)))\n",
    "\n",
    "# Create a DataFrame from the data\n",
    "df = pd.DataFrame(data, columns=['q_body', 'a_body', 'category'])\n",
    "\n",
    "# Save the DataFrame to an Excel file\n",
    "df.to_excel(excel_file, index=False)\n",
    "\n",
    "print(\"New Excel file saved successfully.\")"
   ]
  }
 ],
 "metadata": {
  "language_info": {
   "name": "python"
  }
 },
 "nbformat": 4,
 "nbformat_minor": 2
}
